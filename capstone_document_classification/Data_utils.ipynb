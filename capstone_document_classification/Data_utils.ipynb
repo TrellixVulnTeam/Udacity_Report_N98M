{
 "cells": [
  {
   "cell_type": "code",
   "execution_count": 1,
   "metadata": {
    "ExecuteTime": {
     "end_time": "2018-03-10T08:51:38.761741Z",
     "start_time": "2018-03-10T08:51:38.112314Z"
    }
   },
   "outputs": [],
   "source": [
    "import re\n",
    "import os\n",
    "import pickle"
   ]
  },
  {
   "cell_type": "code",
   "execution_count": 2,
   "metadata": {},
   "outputs": [],
   "source": [
    "train_dir = './20news-bydate-train/'\n",
    "test_dir = './20news-bydate-test/'"
   ]
  },
  {
   "cell_type": "code",
   "execution_count": 3,
   "metadata": {},
   "outputs": [],
   "source": [
    "train_d = []\n",
    "for _,d,_ in os.walk(train_dir):\n",
    "    train_d.append(d)\n",
    "train_d = train_d[0]"
   ]
  },
  {
   "cell_type": "code",
   "execution_count": 4,
   "metadata": {},
   "outputs": [],
   "source": [
    "test_d = []\n",
    "for _,d,_ in os.walk(test_dir):\n",
    "    test_d.append(d)\n",
    "test_d = test_d[0]"
   ]
  },
  {
   "cell_type": "code",
   "execution_count": 5,
   "metadata": {},
   "outputs": [],
   "source": [
    "def getdata(rootdir,dirs):\n",
    "    data = []\n",
    "    label = []\n",
    "    for d in dirs:\n",
    "        for _,_,files in os.walk(rootdir+d):\n",
    "            for f in files:\n",
    "                n = rootdir+d+'/'+f\n",
    "                ff = open(n,'r',encoding='windows-1252')\n",
    "                s = ''\n",
    "                try:\n",
    "                    for ss in ff:\n",
    "                        s+=ss\n",
    "                except UnicodeDecodeError:\n",
    "                    pass\n",
    "                ff.close()\n",
    "                data.append(s)\n",
    "                label.append(d)\n",
    "    return data,label"
   ]
  },
  {
   "cell_type": "code",
   "execution_count": 6,
   "metadata": {},
   "outputs": [],
   "source": [
    "train_data,train_label = getdata(train_dir,train_d)"
   ]
  },
  {
   "cell_type": "code",
   "execution_count": 7,
   "metadata": {},
   "outputs": [],
   "source": [
    "test_data,test_label = getdata(test_dir,test_d)"
   ]
  },
  {
   "cell_type": "code",
   "execution_count": 8,
   "metadata": {},
   "outputs": [],
   "source": [
    "pickle.dump([train_data,train_label],open('./train','wb'))"
   ]
  },
  {
   "cell_type": "code",
   "execution_count": 9,
   "metadata": {},
   "outputs": [],
   "source": [
    "pickle.dump([test_data,test_label],open('./test','wb'))"
   ]
  }
 ],
 "metadata": {
  "kernelspec": {
   "display_name": "Python 3",
   "language": "python",
   "name": "python3"
  },
  "language_info": {
   "codemirror_mode": {
    "name": "ipython",
    "version": 3
   },
   "file_extension": ".py",
   "mimetype": "text/x-python",
   "name": "python",
   "nbconvert_exporter": "python",
   "pygments_lexer": "ipython3",
   "version": "3.6.4"
  }
 },
 "nbformat": 4,
 "nbformat_minor": 2
}
