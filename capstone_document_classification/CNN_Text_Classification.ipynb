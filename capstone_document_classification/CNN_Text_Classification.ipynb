{
 "cells": [
  {
   "cell_type": "code",
   "execution_count": 1,
   "metadata": {
    "ExecuteTime": {
     "end_time": "2018-03-10T12:21:46.259296Z",
     "start_time": "2018-03-10T12:21:28.403631Z"
    },
    "collapsed": true
   },
   "outputs": [],
   "source": [
    "import numpy as np\n",
    "import re\n",
    "import itertools\n",
    "from collections import Counter\n",
    "import collections\n",
    "import mxnet as mx\n",
    "from mxnet import gluon\n",
    "from mxnet.gluon import nn\n",
    "from mxnet import nd\n",
    "from mxnet import ndarray as nd\n",
    "from mxnet import autograd\n",
    "import pickle\n",
    "from mxnet.contrib import text\n"
   ]
  },
  {
   "cell_type": "markdown",
   "metadata": {},
   "source": [
    "定义一些辅助函数"
   ]
  },
  {
   "cell_type": "code",
   "execution_count": 2,
   "metadata": {
    "ExecuteTime": {
     "end_time": "2018-03-10T08:59:38.753458Z",
     "start_time": "2018-03-10T08:59:38.717831Z"
    },
    "collapsed": true
   },
   "outputs": [],
   "source": [
    "def review_to_wordlist(review):\n",
    "    string = review.lower()\n",
    "    string = re.findall(r'(?u)\\b\\w\\w+\\b',string)\n",
    "    return string\n",
    "def build_input_data(x,y,vocab,max_length,padding_word='</s>'):\n",
    "    padded_sentences = []\n",
    "    for i in range(len(x)):\n",
    "        sentence = x[i]\n",
    "        num_padding = sequence_length - len(sentence)\n",
    "        new_sentence = sentence + [padding_word] * num_padding\n",
    "        padded_sentences.append(vocab.to_indices(new_sentence))\n",
    "    xd = np.array(padded_sentences)\n",
    "    yd = np.array(y)\n",
    "    return xd,yd"
   ]
  },
  {
   "cell_type": "markdown",
   "metadata": {},
   "source": [
    "构建网络模型，以及准确率函数"
   ]
  },
  {
   "cell_type": "code",
   "execution_count": 3,
   "metadata": {
    "ExecuteTime": {
     "end_time": "2018-03-10T08:56:14.469623Z",
     "start_time": "2018-03-10T08:56:14.348794Z"
    },
    "collapsed": true
   },
   "outputs": [],
   "source": [
    "class ConvConcat(nn.HybridBlock):\n",
    "    def __init__(self,sentence_size,num_embed,**kwargs):\n",
    "        super(ConvConcat,self).__init__(**kwargs)\n",
    "        net1 = nn.HybridSequential()\n",
    "        with net1.name_scope():\n",
    "            net1.add(nn.Conv2D(channels=100,kernel_size=(3,num_embed),activation='relu'))\n",
    "            net1.add(nn.MaxPool2D(pool_size=(sentence_size-3+1,1)))\n",
    "\n",
    "        net2 = nn.HybridSequential()\n",
    "        with net2.name_scope():\n",
    "            net2.add(nn.Conv2D(channels=100,kernel_size=(4,num_embed),activation='relu'))\n",
    "            net2.add(nn.MaxPool2D(pool_size=(sentence_size-4+1,1)))\n",
    "        \n",
    "        net3 = nn.HybridSequential()\n",
    "        with net3.name_scope():\n",
    "            net3.add(nn.Conv2D(channels=100,kernel_size=(5,num_embed),activation='relu'))\n",
    "            net3.add(nn.MaxPool2D(pool_size=(sentence_size-5+1,1)))\n",
    "            \n",
    "        net4 = nn.HybridSequential()\n",
    "        with net4.name_scope():\n",
    "            net4.add(nn.Conv2D(channels=100,kernel_size=(6,num_embed),activation='relu'))\n",
    "            net4.add(nn.MaxPool2D(pool_size=(sentence_size-6+1,1)))\n",
    "        \n",
    "        self.net1 = net1\n",
    "        self.net2 = net2\n",
    "        self.net3 = net3\n",
    "        self.net4 = net4\n",
    "    def hybrid_forward(self,F,x):\n",
    "        pooled_outputs = []\n",
    "        pooled_outputs.append(self.net1(x))\n",
    "        pooled_outputs.append(self.net2(x))\n",
    "        pooled_outputs.append(self.net3(x))\n",
    "        pooled_outputs.append(self.net4(x))\n",
    "        \n",
    "        total_filters = 100 * 4\n",
    "        concat = F.Concat(*pooled_outputs, dim=1)\n",
    "        h_pool = F.reshape(concat, (-1, total_filters))\n",
    "        \n",
    "        return h_pool\n",
    "\n",
    "class ReshapeInput(nn.HybridBlock):\n",
    "    def __init__(self,sentence_size,num_embed,**kwargs):\n",
    "        super(ReshapeInput,self).__init__(**kwargs)\n",
    "        self.sentence_size = sentence_size\n",
    "        self.num_embed = num_embed\n",
    "    def hybrid_forward(self,F,x):\n",
    "        return F.reshape(x,(-1,1,self.sentence_size,self.num_embed))\n",
    "\n",
    "def accuracy(output, label):\n",
    "    return np.mean(output.argmax(axis=1)==label)\n",
    "\n",
    "def get_valid_acc(net,valid):\n",
    "    valid_acc = 0.\n",
    "    for data,label in valid:\n",
    "        output = net(data.as_in_context(mx.gpu()))\n",
    "        valid_acc +=accuracy(nd.softmax(output).asnumpy(),label.asnumpy())\n",
    "    return valid_acc/len(valid)"
   ]
  },
  {
   "cell_type": "markdown",
   "metadata": {},
   "source": [
    "数据处理"
   ]
  },
  {
   "cell_type": "code",
   "execution_count": 4,
   "metadata": {
    "ExecuteTime": {
     "end_time": "2018-03-10T08:58:51.150443Z",
     "start_time": "2018-03-10T08:58:49.489137Z"
    },
    "collapsed": true
   },
   "outputs": [],
   "source": [
    "train_data,train_label = pickle.load(open('./train','rb'))"
   ]
  },
  {
   "cell_type": "code",
   "execution_count": 5,
   "metadata": {
    "ExecuteTime": {
     "end_time": "2018-03-10T08:58:52.094745Z",
     "start_time": "2018-03-10T08:58:51.777960Z"
    },
    "collapsed": true
   },
   "outputs": [],
   "source": [
    "test_data,test_label = pickle.load(open('./test','rb'))"
   ]
  },
  {
   "cell_type": "code",
   "execution_count": 6,
   "metadata": {
    "collapsed": true
   },
   "outputs": [],
   "source": [
    "sequence_length = 400"
   ]
  },
  {
   "cell_type": "code",
   "execution_count": 7,
   "metadata": {
    "ExecuteTime": {
     "end_time": "2018-03-10T08:59:45.988165Z",
     "start_time": "2018-03-10T08:59:43.433986Z"
    },
    "collapsed": true
   },
   "outputs": [],
   "source": [
    "td = []\n",
    "for d in train_data:\n",
    "    rad = review_to_wordlist(d)\n",
    "    if len(rad) > sequence_length:\n",
    "        rad = rad[:sequence_length]\n",
    "    td.append(rad)\n",
    "tsd = []\n",
    "for d in test_data:\n",
    "    rad = review_to_wordlist(d)\n",
    "    if len(rad) > sequence_length:\n",
    "        rad = rad[:sequence_length]\n",
    "    tsd.append(rad)\n",
    "\n",
    "del train_data\n",
    "del test_data\n",
    "train_data = td\n",
    "test_data = tsd\n",
    "del td\n",
    "del tsd"
   ]
  },
  {
   "cell_type": "markdown",
   "metadata": {},
   "source": [
    "创建词典"
   ]
  },
  {
   "cell_type": "code",
   "execution_count": 8,
   "metadata": {
    "ExecuteTime": {
     "end_time": "2018-03-10T09:00:00.406942Z",
     "start_time": "2018-03-10T08:59:59.706528Z"
    },
    "collapsed": true
   },
   "outputs": [],
   "source": [
    "fr_vocab = text.vocab.Vocabulary(Counter(itertools.chain(*train_data)),reserved_tokens=['</s>'])"
   ]
  },
  {
   "cell_type": "code",
   "execution_count": 9,
   "metadata": {
    "ExecuteTime": {
     "start_time": "2018-03-10T12:22:10.745Z"
    }
   },
   "outputs": [
    {
     "name": "stderr",
     "output_type": "stream",
     "text": [
      "/home/ubuntu/miniconda3/lib/python3.6/site-packages/mxnet/contrib/text/embedding.py:278: UserWarning: At line 1 of the pre-trained text embedding file: token 111051 with 1-dimensional vector [300.0] is likely a header and is skipped.\n",
      "  'skipped.' % (line_num, token, elems))\n"
     ]
    }
   ],
   "source": [
    "my_embedding = text.embedding.create('fasttext', pretrained_file_name='wiki.simple.vec', vocabulary=fr_vocab,)"
   ]
  },
  {
   "cell_type": "code",
   "execution_count": 10,
   "metadata": {
    "collapsed": true
   },
   "outputs": [],
   "source": [
    "fr_vocab_lable = text.vocab.Vocabulary(Counter(test_label),unknown_token=None)"
   ]
  },
  {
   "cell_type": "code",
   "execution_count": 11,
   "metadata": {
    "collapsed": true
   },
   "outputs": [],
   "source": [
    "train_labels = fr_vocab_lable.to_indices(train_label)\n",
    "test_labels = fr_vocab_lable.to_indices(test_label)"
   ]
  },
  {
   "cell_type": "code",
   "execution_count": 12,
   "metadata": {
    "ExecuteTime": {
     "end_time": "2018-03-10T09:01:31.721581Z",
     "start_time": "2018-03-10T09:01:26.296049Z"
    },
    "collapsed": true
   },
   "outputs": [],
   "source": [
    "train_data, train_labels = build_input_data(train_data, train_labels, my_embedding,sequence_length)\n",
    "train_labels = train_labels -1"
   ]
  },
  {
   "cell_type": "code",
   "execution_count": 13,
   "metadata": {
    "ExecuteTime": {
     "end_time": "2018-03-10T09:01:36.069107Z",
     "start_time": "2018-03-10T09:01:32.510283Z"
    },
    "collapsed": true
   },
   "outputs": [],
   "source": [
    "test_data, test_labels = build_input_data(test_data, test_labels, my_embedding,sequence_length)\n",
    "test_labels = test_labels -1"
   ]
  },
  {
   "cell_type": "code",
   "execution_count": 14,
   "metadata": {
    "ExecuteTime": {
     "end_time": "2018-03-10T09:01:40.082639Z",
     "start_time": "2018-03-10T09:01:40.079130Z"
    },
    "collapsed": true
   },
   "outputs": [],
   "source": [
    "embed_size = my_embedding.vec_len\n",
    "sentence_size = sequence_length\n",
    "vocab_size = len(my_embedding)"
   ]
  },
  {
   "cell_type": "code",
   "execution_count": 15,
   "metadata": {
    "ExecuteTime": {
     "end_time": "2018-03-10T09:01:40.811602Z",
     "start_time": "2018-03-10T09:01:40.736025Z"
    },
    "collapsed": true
   },
   "outputs": [],
   "source": [
    "shuffle_indices = np.random.permutation(np.arange(len(train_labels)))\n",
    "train_x = nd.array(train_data[shuffle_indices])\n",
    "train_y = nd.array(train_labels[shuffle_indices])\n",
    "del train_data\n",
    "del train_labels"
   ]
  },
  {
   "cell_type": "code",
   "execution_count": 16,
   "metadata": {
    "ExecuteTime": {
     "end_time": "2018-03-10T09:02:20.212452Z",
     "start_time": "2018-03-10T09:02:20.172343Z"
    },
    "collapsed": true
   },
   "outputs": [],
   "source": [
    "test_x = nd.array(test_data)\n",
    "test_y = nd.array(test_labels)\n",
    "del test_data\n",
    "del test_labels"
   ]
  },
  {
   "cell_type": "markdown",
   "metadata": {},
   "source": [
    "构建模型以及开始训练"
   ]
  },
  {
   "cell_type": "code",
   "execution_count": 17,
   "metadata": {
    "ExecuteTime": {
     "end_time": "2018-03-10T09:02:44.782953Z",
     "start_time": "2018-03-10T09:02:44.778441Z"
    },
    "collapsed": true
   },
   "outputs": [],
   "source": [
    "train_data = gluon.data.DataLoader(gluon.data.ArrayDataset(train_x,train_y), batch_size=8,shuffle=True)\n",
    "valid_data = gluon.data.DataLoader(gluon.data.ArrayDataset(test_x,test_y), batch_size=8,shuffle=True)"
   ]
  },
  {
   "cell_type": "code",
   "execution_count": 18,
   "metadata": {
    "ExecuteTime": {
     "end_time": "2018-03-10T09:03:06.671760Z",
     "start_time": "2018-03-10T09:03:06.473196Z"
    },
    "collapsed": true
   },
   "outputs": [],
   "source": [
    "net = nn.HybridSequential()\n",
    "with net.name_scope():\n",
    "    net.add(nn.Embedding(len(my_embedding), my_embedding.vec_len))\n",
    "    net.add(ReshapeInput(sentence_size,300))\n",
    "    net.add(ConvConcat(sentence_size,300))\n",
    "    net.add(nn.Dropout(.5))\n",
    "    net.add(nn.Dense(20))\n",
    "net.initialize(ctx = mx.gpu())\n",
    "net[0].weight.set_data(my_embedding.idx_to_vec)\n",
    "net.hybridize()\n",
    "\n",
    "softmax_cross_entropy = gluon.loss.SoftmaxCrossEntropyLoss()\n",
    "trainer = gluon.Trainer(net.collect_params(), 'Adam')\n"
   ]
  },
  {
   "cell_type": "code",
   "execution_count": 19,
   "metadata": {
    "ExecuteTime": {
     "end_time": "2018-03-10T11:12:03.568677Z",
     "start_time": "2018-03-10T09:03:49.892971Z"
    }
   },
   "outputs": [
    {
     "name": "stdout",
     "output_type": "stream",
     "text": [
      "Epoch 0, Step 49, Loss: 3.259415, Train acc 0.067500 Valid acc 0.098726\n",
      "Epoch 0, Step 99, Loss: 3.114801, Train acc 0.091250 Valid acc 0.200239\n",
      "Epoch 0, Step 149, Loss: 2.968185, Train acc 0.133333 Valid acc 0.363455\n",
      "Epoch 0, Step 199, Loss: 2.847921, Train acc 0.162500 Valid acc 0.385350\n",
      "Epoch 0, Step 249, Loss: 2.713395, Train acc 0.211500 Valid acc 0.505175\n",
      "Epoch 0, Step 299, Loss: 2.569802, Train acc 0.260833 Valid acc 0.599522\n",
      "Epoch 0, Step 349, Loss: 2.430501, Train acc 0.302857 Valid acc 0.623408\n",
      "Epoch 0, Step 399, Loss: 2.305268, Train acc 0.339375 Valid acc 0.677680\n",
      "Epoch 0, Step 449, Loss: 2.189555, Train acc 0.371389 Valid acc 0.659368\n",
      "Epoch 0, Step 499, Loss: 2.088997, Train acc 0.398500 Valid acc 0.713243\n",
      "Epoch 0, Step 549, Loss: 2.000363, Train acc 0.425227 Valid acc 0.700106\n",
      "Epoch 0, Step 599, Loss: 1.918452, Train acc 0.447708 Valid acc 0.712845\n",
      "Epoch 0, Step 649, Loss: 1.840294, Train acc 0.470192 Valid acc 0.730096\n",
      "Epoch 0, Step 699, Loss: 1.774241, Train acc 0.488929 Valid acc 0.735669\n",
      "Epoch 0, Step 749, Loss: 1.711039, Train acc 0.505667 Valid acc 0.740977\n",
      "Epoch 0, Step 799, Loss: 1.665293, Train acc 0.520156 Valid acc 0.750265\n",
      "Epoch 0, Step 849, Loss: 1.617176, Train acc 0.533971 Valid acc 0.745090\n",
      "Epoch 0, Step 899, Loss: 1.574258, Train acc 0.545000 Valid acc 0.759687\n",
      "Epoch 0, Step 949, Loss: 1.534787, Train acc 0.555789 Valid acc 0.753317\n",
      "Epoch 0, Step 999, Loss: 1.498659, Train acc 0.565625 Valid acc 0.754246\n",
      "Epoch 0, Step 1049, Loss: 1.461612, Train acc 0.576190 Valid acc 0.753052\n",
      "Epoch 0, Step 1099, Loss: 1.432097, Train acc 0.584659 Valid acc 0.749204\n",
      "Epoch 0, Step 1149, Loss: 1.396315, Train acc 0.595109 Valid acc 0.775478\n",
      "Epoch 0, Step 1199, Loss: 1.366410, Train acc 0.603958 Valid acc 0.773753\n",
      "Epoch 0, Step 1249, Loss: 1.335603, Train acc 0.612500 Valid acc 0.781449\n",
      "Epoch 0, Step 1299, Loss: 1.307311, Train acc 0.620481 Valid acc 0.764862\n",
      "Epoch 0, Step 1349, Loss: 1.284251, Train acc 0.626852 Valid acc 0.781051\n",
      "Epoch 0, Step 1399, Loss: 1.266538, Train acc 0.632054 Valid acc 0.783572\n",
      "Epoch 1, Step 49, Loss: 0.333747, Train acc 0.900000 Valid acc 0.801752\n",
      "Epoch 1, Step 99, Loss: 0.325630, Train acc 0.911250 Valid acc 0.780520\n",
      "Epoch 1, Step 149, Loss: 0.347723, Train acc 0.906667 Valid acc 0.801088\n",
      "Epoch 1, Step 199, Loss: 0.374424, Train acc 0.900000 Valid acc 0.816348\n",
      "Epoch 1, Step 249, Loss: 0.365291, Train acc 0.900500 Valid acc 0.817675\n",
      "Epoch 1, Step 299, Loss: 0.377903, Train acc 0.898333 Valid acc 0.804007\n",
      "Epoch 1, Step 349, Loss: 0.371714, Train acc 0.900357 Valid acc 0.809183\n",
      "Epoch 1, Step 399, Loss: 0.375043, Train acc 0.899375 Valid acc 0.809713\n",
      "Epoch 1, Step 449, Loss: 0.367025, Train acc 0.901667 Valid acc 0.796576\n",
      "Epoch 1, Step 499, Loss: 0.369004, Train acc 0.898750 Valid acc 0.811438\n",
      "Epoch 1, Step 549, Loss: 0.363018, Train acc 0.899773 Valid acc 0.818471\n",
      "Epoch 1, Step 599, Loss: 0.363719, Train acc 0.898333 Valid acc 0.806661\n",
      "Epoch 1, Step 649, Loss: 0.355402, Train acc 0.901154 Valid acc 0.819666\n",
      "Epoch 1, Step 699, Loss: 0.351102, Train acc 0.902500 Valid acc 0.816746\n",
      "Epoch 1, Step 749, Loss: 0.350132, Train acc 0.901500 Valid acc 0.788747\n",
      "Epoch 1, Step 799, Loss: 0.347524, Train acc 0.901563 Valid acc 0.826300\n",
      "Epoch 1, Step 849, Loss: 0.348566, Train acc 0.901912 Valid acc 0.819798\n",
      "Epoch 1, Step 899, Loss: 0.346915, Train acc 0.902222 Valid acc 0.819400\n",
      "Epoch 1, Step 949, Loss: 0.346359, Train acc 0.903158 Valid acc 0.823514\n",
      "Epoch 1, Step 999, Loss: 0.346386, Train acc 0.902500 Valid acc 0.826566\n",
      "Epoch 1, Step 1049, Loss: 0.342952, Train acc 0.903690 Valid acc 0.824973\n",
      "Epoch 1, Step 1099, Loss: 0.344055, Train acc 0.903295 Valid acc 0.830281\n",
      "Epoch 1, Step 1149, Loss: 0.340845, Train acc 0.904130 Valid acc 0.825902\n",
      "Epoch 1, Step 1199, Loss: 0.340576, Train acc 0.903958 Valid acc 0.810244\n",
      "Epoch 1, Step 1249, Loss: 0.339309, Train acc 0.904000 Valid acc 0.822054\n",
      "Epoch 1, Step 1299, Loss: 0.337014, Train acc 0.903846 Valid acc 0.831210\n",
      "Epoch 1, Step 1349, Loss: 0.336360, Train acc 0.904074 Valid acc 0.830679\n",
      "Epoch 1, Step 1399, Loss: 0.337333, Train acc 0.903571 Valid acc 0.833731\n",
      "Epoch 2, Step 49, Loss: 0.103116, Train acc 0.977500 Valid acc 0.837049\n",
      "Epoch 2, Step 99, Loss: 0.120942, Train acc 0.973750 Valid acc 0.838907\n",
      "Epoch 2, Step 149, Loss: 0.130955, Train acc 0.973333 Valid acc 0.835722\n",
      "Epoch 2, Step 199, Loss: 0.122391, Train acc 0.973750 Valid acc 0.837845\n",
      "Epoch 2, Step 249, Loss: 0.116966, Train acc 0.975000 Valid acc 0.836385\n",
      "Epoch 2, Step 299, Loss: 0.123610, Train acc 0.972083 Valid acc 0.839437\n",
      "Epoch 2, Step 349, Loss: 0.120373, Train acc 0.971429 Valid acc 0.845011\n",
      "Epoch 2, Step 399, Loss: 0.119230, Train acc 0.971250 Valid acc 0.845143\n",
      "Epoch 2, Step 449, Loss: 0.117558, Train acc 0.972222 Valid acc 0.847001\n",
      "Epoch 2, Step 499, Loss: 0.119496, Train acc 0.970500 Valid acc 0.839968\n",
      "Epoch 2, Step 549, Loss: 0.117437, Train acc 0.970682 Valid acc 0.838641\n",
      "Epoch 2, Step 599, Loss: 0.114710, Train acc 0.971458 Valid acc 0.839172\n",
      "Epoch 2, Step 649, Loss: 0.112841, Train acc 0.972115 Valid acc 0.836518\n",
      "Epoch 2, Step 699, Loss: 0.112491, Train acc 0.972321 Valid acc 0.835324\n",
      "Epoch 2, Step 749, Loss: 0.112905, Train acc 0.972500 Valid acc 0.834395\n",
      "Epoch 2, Step 799, Loss: 0.115493, Train acc 0.971406 Valid acc 0.839437\n",
      "Epoch 2, Step 849, Loss: 0.114426, Train acc 0.971176 Valid acc 0.842357\n",
      "Epoch 2, Step 899, Loss: 0.114522, Train acc 0.971250 Valid acc 0.831476\n",
      "Epoch 2, Step 949, Loss: 0.115789, Train acc 0.970789 Valid acc 0.837580\n",
      "Epoch 2, Step 999, Loss: 0.117498, Train acc 0.970500 Valid acc 0.832803\n",
      "Epoch 2, Step 1049, Loss: 0.118907, Train acc 0.970238 Valid acc 0.840632\n",
      "Epoch 2, Step 1099, Loss: 0.120854, Train acc 0.970000 Valid acc 0.843153\n",
      "Epoch 2, Step 1149, Loss: 0.120366, Train acc 0.970000 Valid acc 0.836385\n",
      "Epoch 2, Step 1199, Loss: 0.121290, Train acc 0.969896 Valid acc 0.846338\n",
      "Epoch 2, Step 1249, Loss: 0.121926, Train acc 0.969500 Valid acc 0.839570\n",
      "Epoch 2, Step 1299, Loss: 0.121779, Train acc 0.969327 Valid acc 0.845409\n",
      "Epoch 2, Step 1349, Loss: 0.123937, Train acc 0.968889 Valid acc 0.833864\n",
      "Epoch 2, Step 1399, Loss: 0.123241, Train acc 0.969107 Valid acc 0.839968\n",
      "Epoch 3, Step 49, Loss: 0.075167, Train acc 0.972500 Valid acc 0.835058\n",
      "Epoch 3, Step 99, Loss: 0.058687, Train acc 0.981250 Valid acc 0.845011\n",
      "Epoch 3, Step 149, Loss: 0.058566, Train acc 0.982500 Valid acc 0.846470\n",
      "Epoch 3, Step 199, Loss: 0.056480, Train acc 0.983750 Valid acc 0.845276\n",
      "Epoch 3, Step 249, Loss: 0.054657, Train acc 0.984000 Valid acc 0.846338\n",
      "Epoch 3, Step 299, Loss: 0.053406, Train acc 0.985000 Valid acc 0.842887\n",
      "Epoch 3, Step 349, Loss: 0.055175, Train acc 0.984643 Valid acc 0.844480\n",
      "Epoch 3, Step 399, Loss: 0.050895, Train acc 0.986250 Valid acc 0.847665\n",
      "Epoch 3, Step 449, Loss: 0.050161, Train acc 0.986667 Valid acc 0.844613\n",
      "Epoch 3, Step 499, Loss: 0.048616, Train acc 0.987500 Valid acc 0.836518\n",
      "Epoch 3, Step 549, Loss: 0.051126, Train acc 0.985909 Valid acc 0.843816\n",
      "Epoch 3, Step 599, Loss: 0.053031, Train acc 0.984375 Valid acc 0.839835\n",
      "Epoch 3, Step 649, Loss: 0.059524, Train acc 0.983462 Valid acc 0.839305\n",
      "Epoch 3, Step 699, Loss: 0.062201, Train acc 0.983393 Valid acc 0.836253\n",
      "Epoch 3, Step 749, Loss: 0.064538, Train acc 0.982833 Valid acc 0.838774\n",
      "Epoch 3, Step 799, Loss: 0.067684, Train acc 0.982187 Valid acc 0.835855\n",
      "Epoch 3, Step 849, Loss: 0.068974, Train acc 0.981765 Valid acc 0.845541\n",
      "save params\n",
      "Epoch 3, Step 899, Loss: 0.068599, Train acc 0.981528 Valid acc 0.850717\n",
      "Epoch 3, Step 949, Loss: 0.068287, Train acc 0.981579 Valid acc 0.843684\n",
      "Epoch 3, Step 999, Loss: 0.068586, Train acc 0.981625 Valid acc 0.841826\n",
      "Epoch 3, Step 1049, Loss: 0.068410, Train acc 0.981667 Valid acc 0.843286\n",
      "Epoch 3, Step 1099, Loss: 0.069248, Train acc 0.981477 Valid acc 0.848461\n",
      "Epoch 3, Step 1149, Loss: 0.069146, Train acc 0.981413 Valid acc 0.844480\n",
      "Epoch 3, Step 1199, Loss: 0.070827, Train acc 0.980938 Valid acc 0.833333\n",
      "Epoch 3, Step 1249, Loss: 0.072137, Train acc 0.980400 Valid acc 0.828954\n",
      "Epoch 3, Step 1299, Loss: 0.071202, Train acc 0.980769 Valid acc 0.839437\n",
      "Epoch 3, Step 1349, Loss: 0.072526, Train acc 0.980926 Valid acc 0.843816\n",
      "Epoch 3, Step 1399, Loss: 0.072118, Train acc 0.981161 Valid acc 0.842091\n"
     ]
    },
    {
     "name": "stdout",
     "output_type": "stream",
     "text": [
      "Epoch 4, Step 49, Loss: 0.019206, Train acc 0.995000 Valid acc 0.841162\n",
      "Epoch 4, Step 99, Loss: 0.026383, Train acc 0.993750 Valid acc 0.841826\n",
      "Epoch 4, Step 149, Loss: 0.022923, Train acc 0.995000 Valid acc 0.840366\n",
      "Epoch 4, Step 199, Loss: 0.025629, Train acc 0.995000 Valid acc 0.840764\n",
      "Epoch 4, Step 249, Loss: 0.040127, Train acc 0.992500 Valid acc 0.845541\n",
      "Epoch 4, Step 299, Loss: 0.037160, Train acc 0.992500 Valid acc 0.848859\n",
      "save params\n",
      "Epoch 4, Step 349, Loss: 0.034024, Train acc 0.993571 Valid acc 0.852972\n",
      "Epoch 4, Step 399, Loss: 0.033083, Train acc 0.993437 Valid acc 0.849920\n",
      "Epoch 4, Step 449, Loss: 0.032287, Train acc 0.992778 Valid acc 0.849390\n",
      "Epoch 4, Step 499, Loss: 0.034507, Train acc 0.992000 Valid acc 0.836385\n",
      "Epoch 4, Step 549, Loss: 0.035406, Train acc 0.991591 Valid acc 0.849655\n",
      "Epoch 4, Step 599, Loss: 0.035250, Train acc 0.991875 Valid acc 0.845011\n",
      "Epoch 4, Step 649, Loss: 0.040921, Train acc 0.991154 Valid acc 0.847134\n",
      "Epoch 4, Step 699, Loss: 0.042190, Train acc 0.989643 Valid acc 0.850186\n",
      "Epoch 4, Step 749, Loss: 0.046567, Train acc 0.989333 Valid acc 0.830812\n",
      "Epoch 4, Step 799, Loss: 0.050488, Train acc 0.988906 Valid acc 0.840234\n",
      "Epoch 4, Step 849, Loss: 0.055335, Train acc 0.988088 Valid acc 0.829883\n",
      "Epoch 4, Step 899, Loss: 0.054337, Train acc 0.988056 Valid acc 0.840632\n",
      "Epoch 4, Step 949, Loss: 0.056904, Train acc 0.988158 Valid acc 0.851247\n",
      "Epoch 4, Step 999, Loss: 0.056607, Train acc 0.988250 Valid acc 0.840101\n",
      "Epoch 4, Step 1049, Loss: 0.057936, Train acc 0.987857 Valid acc 0.819400\n",
      "Epoch 4, Step 1099, Loss: 0.057780, Train acc 0.987614 Valid acc 0.822452\n",
      "Epoch 4, Step 1149, Loss: 0.056933, Train acc 0.987609 Valid acc 0.842622\n",
      "Epoch 4, Step 1199, Loss: 0.057829, Train acc 0.987187 Valid acc 0.845939\n",
      "Epoch 4, Step 1249, Loss: 0.057262, Train acc 0.987100 Valid acc 0.843286\n",
      "Epoch 4, Step 1299, Loss: 0.057262, Train acc 0.986923 Valid acc 0.840101\n",
      "Epoch 4, Step 1349, Loss: 0.057844, Train acc 0.986944 Valid acc 0.840234\n",
      "Epoch 4, Step 1399, Loss: 0.057908, Train acc 0.986786 Valid acc 0.841959\n",
      "Epoch 5, Step 49, Loss: 0.033189, Train acc 0.987500 Valid acc 0.842357\n",
      "Epoch 5, Step 99, Loss: 0.023461, Train acc 0.991250 Valid acc 0.844613\n",
      "Epoch 5, Step 149, Loss: 0.020817, Train acc 0.992500 Valid acc 0.844480\n",
      "Epoch 5, Step 199, Loss: 0.018400, Train acc 0.993125 Valid acc 0.846603\n",
      "Epoch 5, Step 249, Loss: 0.018395, Train acc 0.993000 Valid acc 0.847266\n",
      "Epoch 5, Step 299, Loss: 0.020784, Train acc 0.992500 Valid acc 0.843684\n",
      "Epoch 5, Step 349, Loss: 0.021761, Train acc 0.992143 Valid acc 0.836651\n",
      "Epoch 5, Step 399, Loss: 0.022648, Train acc 0.992500 Valid acc 0.845276\n",
      "Epoch 5, Step 449, Loss: 0.024027, Train acc 0.992500 Valid acc 0.846072\n",
      "Epoch 5, Step 499, Loss: 0.027271, Train acc 0.992000 Valid acc 0.832803\n",
      "Epoch 5, Step 549, Loss: 0.029528, Train acc 0.991591 Valid acc 0.836783\n",
      "Epoch 5, Step 599, Loss: 0.038790, Train acc 0.991042 Valid acc 0.826035\n",
      "Epoch 5, Step 649, Loss: 0.039754, Train acc 0.990769 Valid acc 0.829883\n",
      "Epoch 5, Step 699, Loss: 0.040894, Train acc 0.990536 Valid acc 0.832272\n",
      "Epoch 5, Step 749, Loss: 0.040453, Train acc 0.990500 Valid acc 0.843286\n",
      "Epoch 5, Step 799, Loss: 0.042531, Train acc 0.990156 Valid acc 0.835324\n",
      "Epoch 5, Step 849, Loss: 0.043363, Train acc 0.989706 Valid acc 0.835058\n",
      "Epoch 5, Step 899, Loss: 0.044302, Train acc 0.989167 Valid acc 0.842091\n",
      "Epoch 5, Step 949, Loss: 0.046089, Train acc 0.988947 Valid acc 0.841295\n",
      "Epoch 5, Step 999, Loss: 0.045231, Train acc 0.989125 Valid acc 0.822718\n",
      "Epoch 5, Step 1049, Loss: 0.047139, Train acc 0.988452 Valid acc 0.832404\n",
      "Epoch 5, Step 1099, Loss: 0.049677, Train acc 0.988068 Valid acc 0.832404\n",
      "Epoch 5, Step 1149, Loss: 0.051162, Train acc 0.987609 Valid acc 0.833068\n",
      "Epoch 5, Step 1199, Loss: 0.050828, Train acc 0.987708 Valid acc 0.839835\n",
      "Epoch 5, Step 1249, Loss: 0.051418, Train acc 0.987700 Valid acc 0.841428\n",
      "Epoch 5, Step 1299, Loss: 0.052379, Train acc 0.987596 Valid acc 0.834130\n",
      "Epoch 5, Step 1349, Loss: 0.053056, Train acc 0.987315 Valid acc 0.844214\n",
      "Epoch 5, Step 1399, Loss: 0.052149, Train acc 0.987411 Valid acc 0.841561\n",
      "Epoch 6, Step 49, Loss: 0.018769, Train acc 0.992500 Valid acc 0.842091\n",
      "Epoch 6, Step 99, Loss: 0.031579, Train acc 0.991250 Valid acc 0.839305\n",
      "Epoch 6, Step 149, Loss: 0.027448, Train acc 0.992500 Valid acc 0.850717\n",
      "Epoch 6, Step 199, Loss: 0.036598, Train acc 0.990625 Valid acc 0.838243\n",
      "Epoch 6, Step 249, Loss: 0.036008, Train acc 0.989000 Valid acc 0.849788\n",
      "Epoch 6, Step 299, Loss: 0.033808, Train acc 0.988333 Valid acc 0.841561\n",
      "Epoch 6, Step 349, Loss: 0.033426, Train acc 0.988571 Valid acc 0.845011\n",
      "Epoch 6, Step 399, Loss: 0.032653, Train acc 0.989375 Valid acc 0.849655\n",
      "Epoch 6, Step 449, Loss: 0.030531, Train acc 0.989722 Valid acc 0.838110\n",
      "Epoch 6, Step 499, Loss: 0.029938, Train acc 0.989750 Valid acc 0.831343\n",
      "Epoch 6, Step 549, Loss: 0.030098, Train acc 0.990000 Valid acc 0.843286\n",
      "Epoch 6, Step 599, Loss: 0.028662, Train acc 0.990417 Valid acc 0.846868\n",
      "Epoch 6, Step 649, Loss: 0.030190, Train acc 0.990577 Valid acc 0.834395\n",
      "Epoch 6, Step 699, Loss: 0.033827, Train acc 0.990536 Valid acc 0.831210\n",
      "Epoch 6, Step 749, Loss: 0.033039, Train acc 0.990667 Valid acc 0.837447\n",
      "Epoch 6, Step 799, Loss: 0.034758, Train acc 0.990313 Valid acc 0.836518\n",
      "Epoch 6, Step 849, Loss: 0.037539, Train acc 0.990294 Valid acc 0.842224\n",
      "Epoch 6, Step 899, Loss: 0.037240, Train acc 0.990556 Valid acc 0.841030\n",
      "Epoch 6, Step 949, Loss: 0.035749, Train acc 0.990921 Valid acc 0.840499\n",
      "Epoch 6, Step 999, Loss: 0.036416, Train acc 0.990625 Valid acc 0.832537\n",
      "Epoch 6, Step 1049, Loss: 0.037901, Train acc 0.990357 Valid acc 0.835191\n",
      "Epoch 6, Step 1099, Loss: 0.037335, Train acc 0.990568 Valid acc 0.839835\n",
      "Epoch 6, Step 1149, Loss: 0.037965, Train acc 0.990109 Valid acc 0.838641\n",
      "Epoch 6, Step 1199, Loss: 0.039941, Train acc 0.989896 Valid acc 0.827893\n",
      "Epoch 6, Step 1249, Loss: 0.040431, Train acc 0.989800 Valid acc 0.842755\n",
      "Epoch 6, Step 1299, Loss: 0.040657, Train acc 0.989327 Valid acc 0.827760\n",
      "Epoch 6, Step 1349, Loss: 0.043236, Train acc 0.989167 Valid acc 0.814490\n",
      "Epoch 6, Step 1399, Loss: 0.046184, Train acc 0.988929 Valid acc 0.826699\n"
     ]
    }
   ],
   "source": [
    "Max_valid_acc = 0.85\n",
    "loss_array = []\n",
    "valid_acc_array = []\n",
    "train_acc_array = []\n",
    "for epoch in range(7):\n",
    "    train_loss = 0.\n",
    "    train_acc = 0.\n",
    "    valid_acc = 0.\n",
    "    for i,(data, label) in enumerate(train_data):\n",
    "        with autograd.record():\n",
    "            output = net(data.as_in_context(mx.gpu()))\n",
    "            loss = softmax_cross_entropy(output, label.astype('float32').as_in_context(mx.gpu()))\n",
    "        loss.backward()\n",
    "        trainer.step(8)\n",
    "\n",
    "        _loss = nd.mean(loss).asscalar()\n",
    "        train_loss += _loss\n",
    "        _acc = accuracy(nd.softmax(output).asnumpy(), label.asnumpy())\n",
    "        train_acc += _acc\n",
    "\n",
    "        if i % 50 == 49:\n",
    "            valid_acc = get_valid_acc(net,valid_data)\n",
    "            if valid_acc > Max_valid_acc:\n",
    "                Max_valid_acc = valid_acc\n",
    "                print('save params')\n",
    "                net.save_params('./params/'+str(Max_valid_acc)+'_params')\n",
    "            loss_array.append(train_loss/(i+1))\n",
    "            valid_acc_array.append(valid_acc)\n",
    "            train_acc_array.append(train_acc/(i+1))\n",
    "            print(\"Epoch %d, Step %d, Loss: %f, Train acc %f Valid acc %f\" % (epoch,i,train_loss/(i+1), train_acc/(i+1),valid_acc))\n",
    "pickle.dump(fr_vocab_lable,open('./label_vocab','wb'))\n",
    "pickle.dump(fr_vocab,open('./data_vocab','wb'))"
   ]
  },
  {
   "cell_type": "code",
   "execution_count": 36,
   "metadata": {},
   "outputs": [
    {
     "name": "stderr",
     "output_type": "stream",
     "text": [
      "/home/ubuntu/miniconda3/lib/python3.6/site-packages/matplotlib/figure.py:459: UserWarning: matplotlib is currently using a non-GUI backend, so cannot show the figure\n",
      "  \"matplotlib is currently using a non-GUI backend, \"\n"
     ]
    },
    {
     "data": {
      "image/png": "[encoded data removed]",
      "text/plain": [
       "<Figure size 432x288 with 2 Axes>"
      ]
     },
     "metadata": {},
     "output_type": "display_data"
    }
   ],
   "source": [
    "import matplotlib.pyplot as plt\n",
    "fig = plt.figure()\n",
    "\n",
    "ax1 = fig.add_subplot(111)\n",
    "ax1.plot(loss_array, 'r')\n",
    "ax1.legend(['Train_Loss'], loc=2)\n",
    "ax1.set_ylabel('Loss')\n",
    "\n",
    "\n",
    "ax2 = ax1.twinx()\n",
    "ax2.plot(train_acc_array, 'b')\n",
    "ax2.plot(valid_acc_array, 'y')\n",
    "ax2.legend(['Train_Acc', 'Valid_Acc'], loc=1)\n",
    "ax2.set_ylabel('Acc')\n",
    "\n",
    "plt.savefig('./train.png',dpi=500)\n",
    "\n",
    "fig.show()"
   ]
  }
 ],
 "metadata": {
  "kernelspec": {
   "display_name": "Python 3",
   "language": "python",
   "name": "python3"
  },
  "language_info": {
   "codemirror_mode": {
    "name": "ipython",
    "version": 3
   },
   "file_extension": ".py",
   "mimetype": "text/x-python",
   "name": "python",
   "nbconvert_exporter": "python",
   "pygments_lexer": "ipython3",
   "version": "3.6.4"
  }
 },
 "nbformat": 4,
 "nbformat_minor": 2
}
